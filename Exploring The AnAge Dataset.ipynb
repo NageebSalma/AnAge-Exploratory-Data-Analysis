{
 "cells": [
  {
   "cell_type": "markdown",
   "id": "1af5f4f9",
   "metadata": {},
   "source": [
    "\n",
    "<div class=\"alert alert-block alert-info\"><b>The Animal Ageing (AnAge) </b>is a curated database of ageing and life history information in animals, including extensive longevity records. \n",
    "<br>For more information<a href=\"https://genomics.senescence.info/species/index.html\"> click here*. </div> \n"
   ]
  },
  {
   "cell_type": "markdown",
   "id": "17f2855f",
   "metadata": {},
   "source": [
    "<div background_color ='red'> </div>"
   ]
  },
  {
   "cell_type": "markdown",
   "id": "ff74515f",
   "metadata": {},
   "source": [
    "#### *Readin the dataset and importing necessary libraries:*"
   ]
  },
  {
   "cell_type": "code",
   "execution_count": 3,
   "id": "05a8ccb5",
   "metadata": {},
   "outputs": [],
   "source": [
    "import pandas as pd"
   ]
  },
  {
   "cell_type": "code",
   "execution_count": 9,
   "id": "3eb996ce",
   "metadata": {},
   "outputs": [],
   "source": [
    "import io\n",
    "import requests"
   ]
  },
  {
   "cell_type": "code",
   "execution_count": 24,
   "id": "d65f2d7a",
   "metadata": {},
   "outputs": [],
   "source": [
    "url = 'https://raw.githubusercontent.com/NageebSalma/Datasets/main/anage_data.txt'"
   ]
  },
  {
   "cell_type": "code",
   "execution_count": 25,
   "id": "d020f768",
   "metadata": {},
   "outputs": [],
   "source": [
    "anage = pd.read_csv(url , sep ='\\t') "
   ]
  },
  {
   "cell_type": "code",
   "execution_count": 5,
   "id": "2420062d",
   "metadata": {},
   "outputs": [],
   "source": [
    "import matplotlib.pyplot as plt\n",
    "import seaborn as sns"
   ]
  },
  {
   "cell_type": "code",
   "execution_count": 6,
   "id": "92047752",
   "metadata": {},
   "outputs": [],
   "source": [
    "import numpy as np"
   ]
  },
  {
   "cell_type": "code",
   "execution_count": 7,
   "id": "400441a8",
   "metadata": {},
   "outputs": [],
   "source": [
    "plt.style.use(\"fivethirtyeight\")"
   ]
  },
  {
   "cell_type": "markdown",
   "id": "faaedaa6",
   "metadata": {},
   "source": [
    "# "
   ]
  },
  {
   "cell_type": "markdown",
   "id": "a2d70395",
   "metadata": {},
   "source": [
    "#### *Cleaning up the data a bit:*"
   ]
  },
  {
   "cell_type": "code",
   "execution_count": 26,
   "id": "216a0df7",
   "metadata": {
    "scrolled": false
   },
   "outputs": [
    {
     "name": "stdout",
     "output_type": "stream",
     "text": [
      "<class 'pandas.core.frame.DataFrame'>\n",
      "RangeIndex: 4645 entries, 0 to 4644\n",
      "Data columns (total 31 columns):\n",
      " #   Column                            Non-Null Count  Dtype  \n",
      "---  ------                            --------------  -----  \n",
      " 0   HAGRID                            4645 non-null   int64  \n",
      " 1   Kingdom                           4645 non-null   object \n",
      " 2   Phylum                            4645 non-null   object \n",
      " 3   Class                             4645 non-null   object \n",
      " 4   Order                             4645 non-null   object \n",
      " 5   Family                            4645 non-null   object \n",
      " 6   Genus                             4645 non-null   object \n",
      " 7   Species                           4645 non-null   object \n",
      " 8   Common name                       4645 non-null   object \n",
      " 9   Female maturity (days)            2485 non-null   float64\n",
      " 10  Male maturity (days)              1905 non-null   float64\n",
      " 11  Gestation/Incubation (days)       1835 non-null   float64\n",
      " 12  Weaning (days)                    768 non-null    float64\n",
      " 13  Litter/Clutch size                2093 non-null   float64\n",
      " 14  Litters/Clutches per year         1304 non-null   float64\n",
      " 15  Inter-litter/Interbirth interval  765 non-null    float64\n",
      " 16  Birth weight (g)                  1230 non-null   float64\n",
      " 17  Weaning weight (g)                384 non-null    float64\n",
      " 18  Adult weight (g)                  3663 non-null   float64\n",
      " 19  Growth rate (1/days)              559 non-null    float64\n",
      " 20  Maximum longevity (yrs)           4141 non-null   float64\n",
      " 21  Source                            4071 non-null   object \n",
      " 22  Specimen origin                   4645 non-null   object \n",
      " 23  Sample size                       4645 non-null   object \n",
      " 24  Data quality                      4645 non-null   object \n",
      " 25  IMR (per yr)                      43 non-null     float64\n",
      " 26  MRDT (yrs)                        43 non-null     float64\n",
      " 27  Metabolic rate (W)                627 non-null    float64\n",
      " 28  Body mass (g)                     627 non-null    float64\n",
      " 29  Temperature (K)                   494 non-null    float64\n",
      " 30  References                        4644 non-null   object \n",
      "dtypes: float64(17), int64(1), object(13)\n",
      "memory usage: 1.1+ MB\n"
     ]
    }
   ],
   "source": [
    "anage.info()"
   ]
  },
  {
   "cell_type": "code",
   "execution_count": 6,
   "id": "ac67b9f3",
   "metadata": {},
   "outputs": [
    {
     "data": {
      "text/plain": [
       "(4645, 31)"
      ]
     },
     "execution_count": 6,
     "metadata": {},
     "output_type": "execute_result"
    }
   ],
   "source": [
    "#original shape\n",
    "anage.shape"
   ]
  },
  {
   "cell_type": "code",
   "execution_count": 7,
   "id": "b0419e17",
   "metadata": {
    "scrolled": false
   },
   "outputs": [],
   "source": [
    "#dropping columns that I'm sure won't be using in this EDA:\n",
    "anage.drop(columns = ['Weaning weight (g)','Litter/Clutch size','Litters/Clutches per year','Inter-litter/Interbirth interval','Growth rate (1/days)','Specimen origin','Sample size', 'References'], inplace = True)"
   ]
  },
  {
   "cell_type": "code",
   "execution_count": null,
   "id": "3c091e35",
   "metadata": {},
   "outputs": [],
   "source": []
  },
  {
   "cell_type": "code",
   "execution_count": 8,
   "id": "ddda4312",
   "metadata": {},
   "outputs": [
    {
     "data": {
      "image/png": "[encoded data removed]",
      "text/plain": [
       "<Figure size 432x288 with 1 Axes>"
      ]
     },
     "metadata": {},
     "output_type": "display_data"
    }
   ],
   "source": [
    "#showing the data quality in the original anage datatset\n",
    "with plt.xkcd():\n",
    "    anage['Data quality'].value_counts().plot(kind = 'bar', color ='#444F5A' )\n",
    "    sns.despine(top=True, right=True, left=False, bottom=False)"
   ]
  },
  {
   "cell_type": "code",
   "execution_count": 9,
   "id": "ba0d8409",
   "metadata": {},
   "outputs": [],
   "source": [
    "#dropping rows where Data quality is neither high nor acceptable.\n",
    "anage.drop(anage[~anage['Data quality'].isin(['high' , 'acceptable'])].index , inplace = True)"
   ]
  },
  {
   "cell_type": "code",
   "execution_count": 10,
   "id": "97f2523a",
   "metadata": {
    "scrolled": false
   },
   "outputs": [
    {
     "data": {
      "text/html": [
       "<div>\n",
       "<style scoped>\n",
       "    .dataframe tbody tr th:only-of-type {\n",
       "        vertical-align: middle;\n",
       "    }\n",
       "\n",
       "    .dataframe tbody tr th {\n",
       "        vertical-align: top;\n",
       "    }\n",
       "\n",
       "    .dataframe thead th {\n",
       "        text-align: right;\n",
       "    }\n",
       "</style>\n",
       "<table border=\"1\" class=\"dataframe\">\n",
       "  <thead>\n",
       "    <tr style=\"text-align: right;\">\n",
       "      <th></th>\n",
       "      <th>HAGRID</th>\n",
       "      <th>Kingdom</th>\n",
       "      <th>Phylum</th>\n",
       "      <th>Class</th>\n",
       "      <th>Order</th>\n",
       "      <th>Family</th>\n",
       "      <th>Genus</th>\n",
       "      <th>Species</th>\n",
       "      <th>Common name</th>\n",
       "      <th>Female maturity (days)</th>\n",
       "      <th>...</th>\n",
       "      <th>Birth weight (g)</th>\n",
       "      <th>Adult weight (g)</th>\n",
       "      <th>Maximum longevity (yrs)</th>\n",
       "      <th>Source</th>\n",
       "      <th>Data quality</th>\n",
       "      <th>IMR (per yr)</th>\n",
       "      <th>MRDT (yrs)</th>\n",
       "      <th>Metabolic rate (W)</th>\n",
       "      <th>Body mass (g)</th>\n",
       "      <th>Temperature (K)</th>\n",
       "    </tr>\n",
       "  </thead>\n",
       "  <tbody>\n",
       "    <tr>\n",
       "      <th>0</th>\n",
       "      <td>3</td>\n",
       "      <td>Animalia</td>\n",
       "      <td>Annelida</td>\n",
       "      <td>Polychaeta</td>\n",
       "      <td>Sabellida</td>\n",
       "      <td>Siboglinidae</td>\n",
       "      <td>Escarpia</td>\n",
       "      <td>laminata</td>\n",
       "      <td>Escarpia laminata</td>\n",
       "      <td>NaN</td>\n",
       "      <td>...</td>\n",
       "      <td>NaN</td>\n",
       "      <td>NaN</td>\n",
       "      <td>300.00</td>\n",
       "      <td>1466</td>\n",
       "      <td>acceptable</td>\n",
       "      <td>NaN</td>\n",
       "      <td>NaN</td>\n",
       "      <td>NaN</td>\n",
       "      <td>NaN</td>\n",
       "      <td>NaN</td>\n",
       "    </tr>\n",
       "    <tr>\n",
       "      <th>1</th>\n",
       "      <td>5</td>\n",
       "      <td>Animalia</td>\n",
       "      <td>Annelida</td>\n",
       "      <td>Polychaeta</td>\n",
       "      <td>Sabellida</td>\n",
       "      <td>Siboglinidae</td>\n",
       "      <td>Lamellibrachia</td>\n",
       "      <td>luymesi</td>\n",
       "      <td>Lamellibrachia luymesi</td>\n",
       "      <td>NaN</td>\n",
       "      <td>...</td>\n",
       "      <td>NaN</td>\n",
       "      <td>NaN</td>\n",
       "      <td>250.00</td>\n",
       "      <td>652</td>\n",
       "      <td>acceptable</td>\n",
       "      <td>NaN</td>\n",
       "      <td>NaN</td>\n",
       "      <td>NaN</td>\n",
       "      <td>NaN</td>\n",
       "      <td>NaN</td>\n",
       "    </tr>\n",
       "    <tr>\n",
       "      <th>2</th>\n",
       "      <td>6</td>\n",
       "      <td>Animalia</td>\n",
       "      <td>Annelida</td>\n",
       "      <td>Polychaeta</td>\n",
       "      <td>Sabellida</td>\n",
       "      <td>Siboglinidae</td>\n",
       "      <td>Seepiophila</td>\n",
       "      <td>jonesi</td>\n",
       "      <td>Seepiophila jonesi</td>\n",
       "      <td>NaN</td>\n",
       "      <td>...</td>\n",
       "      <td>NaN</td>\n",
       "      <td>NaN</td>\n",
       "      <td>300.00</td>\n",
       "      <td>1467</td>\n",
       "      <td>acceptable</td>\n",
       "      <td>NaN</td>\n",
       "      <td>NaN</td>\n",
       "      <td>NaN</td>\n",
       "      <td>NaN</td>\n",
       "      <td>NaN</td>\n",
       "    </tr>\n",
       "    <tr>\n",
       "      <th>3</th>\n",
       "      <td>9</td>\n",
       "      <td>Animalia</td>\n",
       "      <td>Arthropoda</td>\n",
       "      <td>Branchiopoda</td>\n",
       "      <td>Diplostraca</td>\n",
       "      <td>Daphniidae</td>\n",
       "      <td>Daphnia</td>\n",
       "      <td>pulicaria</td>\n",
       "      <td>Daphnia</td>\n",
       "      <td>NaN</td>\n",
       "      <td>...</td>\n",
       "      <td>NaN</td>\n",
       "      <td>NaN</td>\n",
       "      <td>0.19</td>\n",
       "      <td>NaN</td>\n",
       "      <td>acceptable</td>\n",
       "      <td>NaN</td>\n",
       "      <td>NaN</td>\n",
       "      <td>NaN</td>\n",
       "      <td>NaN</td>\n",
       "      <td>NaN</td>\n",
       "    </tr>\n",
       "    <tr>\n",
       "      <th>4</th>\n",
       "      <td>11</td>\n",
       "      <td>Animalia</td>\n",
       "      <td>Arthropoda</td>\n",
       "      <td>Insecta</td>\n",
       "      <td>Diptera</td>\n",
       "      <td>Drosophilidae</td>\n",
       "      <td>Drosophila</td>\n",
       "      <td>melanogaster</td>\n",
       "      <td>Fruit fly</td>\n",
       "      <td>7.0</td>\n",
       "      <td>...</td>\n",
       "      <td>NaN</td>\n",
       "      <td>NaN</td>\n",
       "      <td>0.30</td>\n",
       "      <td>NaN</td>\n",
       "      <td>acceptable</td>\n",
       "      <td>0.05</td>\n",
       "      <td>0.04</td>\n",
       "      <td>NaN</td>\n",
       "      <td>NaN</td>\n",
       "      <td>NaN</td>\n",
       "    </tr>\n",
       "    <tr>\n",
       "      <th>...</th>\n",
       "      <td>...</td>\n",
       "      <td>...</td>\n",
       "      <td>...</td>\n",
       "      <td>...</td>\n",
       "      <td>...</td>\n",
       "      <td>...</td>\n",
       "      <td>...</td>\n",
       "      <td>...</td>\n",
       "      <td>...</td>\n",
       "      <td>...</td>\n",
       "      <td>...</td>\n",
       "      <td>...</td>\n",
       "      <td>...</td>\n",
       "      <td>...</td>\n",
       "      <td>...</td>\n",
       "      <td>...</td>\n",
       "      <td>...</td>\n",
       "      <td>...</td>\n",
       "      <td>...</td>\n",
       "      <td>...</td>\n",
       "      <td>...</td>\n",
       "    </tr>\n",
       "    <tr>\n",
       "      <th>4029</th>\n",
       "      <td>4664</td>\n",
       "      <td>Plantae</td>\n",
       "      <td>Pinophyta</td>\n",
       "      <td>Pinopsida</td>\n",
       "      <td>Pinales</td>\n",
       "      <td>Pinaceae</td>\n",
       "      <td>Pinus</td>\n",
       "      <td>longaeva</td>\n",
       "      <td>Great Basin bristlecone pine</td>\n",
       "      <td>NaN</td>\n",
       "      <td>...</td>\n",
       "      <td>NaN</td>\n",
       "      <td>NaN</td>\n",
       "      <td>5062.00</td>\n",
       "      <td>1289</td>\n",
       "      <td>acceptable</td>\n",
       "      <td>NaN</td>\n",
       "      <td>999.00</td>\n",
       "      <td>NaN</td>\n",
       "      <td>NaN</td>\n",
       "      <td>NaN</td>\n",
       "    </tr>\n",
       "    <tr>\n",
       "      <th>4030</th>\n",
       "      <td>4665</td>\n",
       "      <td>Plantae</td>\n",
       "      <td>Tracheophyta</td>\n",
       "      <td>Magnoliopsida</td>\n",
       "      <td>Fabales</td>\n",
       "      <td>Fabaceae</td>\n",
       "      <td>Vachellia</td>\n",
       "      <td>tortilis</td>\n",
       "      <td>Umbrella thorn</td>\n",
       "      <td>NaN</td>\n",
       "      <td>...</td>\n",
       "      <td>NaN</td>\n",
       "      <td>NaN</td>\n",
       "      <td>650.00</td>\n",
       "      <td>1446</td>\n",
       "      <td>acceptable</td>\n",
       "      <td>NaN</td>\n",
       "      <td>NaN</td>\n",
       "      <td>NaN</td>\n",
       "      <td>NaN</td>\n",
       "      <td>NaN</td>\n",
       "    </tr>\n",
       "    <tr>\n",
       "      <th>4031</th>\n",
       "      <td>4666</td>\n",
       "      <td>Plantae</td>\n",
       "      <td>Tracheophyta</td>\n",
       "      <td>Magnoliopsida</td>\n",
       "      <td>Malvales</td>\n",
       "      <td>Malvaceae</td>\n",
       "      <td>Adansonia</td>\n",
       "      <td>digitata</td>\n",
       "      <td>African baobab</td>\n",
       "      <td>NaN</td>\n",
       "      <td>...</td>\n",
       "      <td>NaN</td>\n",
       "      <td>NaN</td>\n",
       "      <td>2500.00</td>\n",
       "      <td>1423</td>\n",
       "      <td>acceptable</td>\n",
       "      <td>NaN</td>\n",
       "      <td>NaN</td>\n",
       "      <td>NaN</td>\n",
       "      <td>NaN</td>\n",
       "      <td>NaN</td>\n",
       "    </tr>\n",
       "    <tr>\n",
       "      <th>4032</th>\n",
       "      <td>4667</td>\n",
       "      <td>Plantae</td>\n",
       "      <td>Tracheophytes</td>\n",
       "      <td>Ginkgoopsida</td>\n",
       "      <td>Ginkgoales</td>\n",
       "      <td>Ginkgoaceae</td>\n",
       "      <td>Ginkgo</td>\n",
       "      <td>biloba</td>\n",
       "      <td>Common ginkgo</td>\n",
       "      <td>NaN</td>\n",
       "      <td>...</td>\n",
       "      <td>NaN</td>\n",
       "      <td>NaN</td>\n",
       "      <td>1000.00</td>\n",
       "      <td>1432</td>\n",
       "      <td>acceptable</td>\n",
       "      <td>NaN</td>\n",
       "      <td>NaN</td>\n",
       "      <td>NaN</td>\n",
       "      <td>NaN</td>\n",
       "      <td>NaN</td>\n",
       "    </tr>\n",
       "    <tr>\n",
       "      <th>4033</th>\n",
       "      <td>4669</td>\n",
       "      <td>Fungi</td>\n",
       "      <td>Ascomycota</td>\n",
       "      <td>Saccharomycetes</td>\n",
       "      <td>Saccharomycetales</td>\n",
       "      <td>Saccharomycetaceae</td>\n",
       "      <td>Saccharomyces</td>\n",
       "      <td>cerevisiae</td>\n",
       "      <td>Baker's yeast</td>\n",
       "      <td>NaN</td>\n",
       "      <td>...</td>\n",
       "      <td>NaN</td>\n",
       "      <td>NaN</td>\n",
       "      <td>0.04</td>\n",
       "      <td>NaN</td>\n",
       "      <td>acceptable</td>\n",
       "      <td>NaN</td>\n",
       "      <td>NaN</td>\n",
       "      <td>NaN</td>\n",
       "      <td>NaN</td>\n",
       "      <td>NaN</td>\n",
       "    </tr>\n",
       "  </tbody>\n",
       "</table>\n",
       "<p>4034 rows × 23 columns</p>\n",
       "</div>"
      ],
      "text/plain": [
       "      HAGRID   Kingdom         Phylum            Class              Order  \\\n",
       "0          3  Animalia       Annelida       Polychaeta          Sabellida   \n",
       "1          5  Animalia       Annelida       Polychaeta          Sabellida   \n",
       "2          6  Animalia       Annelida       Polychaeta          Sabellida   \n",
       "3          9  Animalia     Arthropoda     Branchiopoda        Diplostraca   \n",
       "4         11  Animalia     Arthropoda          Insecta            Diptera   \n",
       "...      ...       ...            ...              ...                ...   \n",
       "4029    4664   Plantae      Pinophyta        Pinopsida            Pinales   \n",
       "4030    4665   Plantae   Tracheophyta    Magnoliopsida            Fabales   \n",
       "4031    4666   Plantae   Tracheophyta    Magnoliopsida           Malvales   \n",
       "4032    4667   Plantae  Tracheophytes     Ginkgoopsida         Ginkgoales   \n",
       "4033    4669     Fungi     Ascomycota  Saccharomycetes  Saccharomycetales   \n",
       "\n",
       "                  Family           Genus       Species  \\\n",
       "0           Siboglinidae        Escarpia      laminata   \n",
       "1           Siboglinidae  Lamellibrachia       luymesi   \n",
       "2           Siboglinidae     Seepiophila        jonesi   \n",
       "3             Daphniidae         Daphnia     pulicaria   \n",
       "4          Drosophilidae      Drosophila  melanogaster   \n",
       "...                  ...             ...           ...   \n",
       "4029            Pinaceae           Pinus      longaeva   \n",
       "4030            Fabaceae       Vachellia      tortilis   \n",
       "4031           Malvaceae       Adansonia      digitata   \n",
       "4032         Ginkgoaceae          Ginkgo        biloba   \n",
       "4033  Saccharomycetaceae   Saccharomyces    cerevisiae   \n",
       "\n",
       "                       Common name  Female maturity (days)  ...  \\\n",
       "0                Escarpia laminata                     NaN  ...   \n",
       "1           Lamellibrachia luymesi                     NaN  ...   \n",
       "2               Seepiophila jonesi                     NaN  ...   \n",
       "3                          Daphnia                     NaN  ...   \n",
       "4                        Fruit fly                     7.0  ...   \n",
       "...                            ...                     ...  ...   \n",
       "4029  Great Basin bristlecone pine                     NaN  ...   \n",
       "4030                Umbrella thorn                     NaN  ...   \n",
       "4031                African baobab                     NaN  ...   \n",
       "4032                 Common ginkgo                     NaN  ...   \n",
       "4033                 Baker's yeast                     NaN  ...   \n",
       "\n",
       "      Birth weight (g)  Adult weight (g)  Maximum longevity (yrs)  Source  \\\n",
       "0                  NaN               NaN                   300.00    1466   \n",
       "1                  NaN               NaN                   250.00     652   \n",
       "2                  NaN               NaN                   300.00    1467   \n",
       "3                  NaN               NaN                     0.19     NaN   \n",
       "4                  NaN               NaN                     0.30     NaN   \n",
       "...                ...               ...                      ...     ...   \n",
       "4029               NaN               NaN                  5062.00    1289   \n",
       "4030               NaN               NaN                   650.00    1446   \n",
       "4031               NaN               NaN                  2500.00    1423   \n",
       "4032               NaN               NaN                  1000.00    1432   \n",
       "4033               NaN               NaN                     0.04     NaN   \n",
       "\n",
       "      Data quality  IMR (per yr) MRDT (yrs) Metabolic rate (W)  Body mass (g)  \\\n",
       "0       acceptable           NaN        NaN                NaN            NaN   \n",
       "1       acceptable           NaN        NaN                NaN            NaN   \n",
       "2       acceptable           NaN        NaN                NaN            NaN   \n",
       "3       acceptable           NaN        NaN                NaN            NaN   \n",
       "4       acceptable          0.05       0.04                NaN            NaN   \n",
       "...            ...           ...        ...                ...            ...   \n",
       "4029    acceptable           NaN     999.00                NaN            NaN   \n",
       "4030    acceptable           NaN        NaN                NaN            NaN   \n",
       "4031    acceptable           NaN        NaN                NaN            NaN   \n",
       "4032    acceptable           NaN        NaN                NaN            NaN   \n",
       "4033    acceptable           NaN        NaN                NaN            NaN   \n",
       "\n",
       "      Temperature (K)  \n",
       "0                 NaN  \n",
       "1                 NaN  \n",
       "2                 NaN  \n",
       "3                 NaN  \n",
       "4                 NaN  \n",
       "...               ...  \n",
       "4029              NaN  \n",
       "4030              NaN  \n",
       "4031              NaN  \n",
       "4032              NaN  \n",
       "4033              NaN  \n",
       "\n",
       "[4034 rows x 23 columns]"
      ]
     },
     "execution_count": 10,
     "metadata": {},
     "output_type": "execute_result"
    }
   ],
   "source": [
    "#resetting the index.\n",
    "anage.reset_index(drop = True)"
   ]
  },
  {
   "cell_type": "code",
   "execution_count": 11,
   "id": "7374c5cf",
   "metadata": {
    "scrolled": true
   },
   "outputs": [
    {
     "data": {
      "image/png": "[encoded data removed]",
      "text/plain": [
       "<Figure size 432x288 with 1 Axes>"
      ]
     },
     "metadata": {},
     "output_type": "display_data"
    }
   ],
   "source": [
    "#showing the data quality in the changed anage datatset\n",
    "with plt.xkcd():\n",
    "    anage['Data quality'].value_counts().plot(kind = 'bar' , color = '#444F5A')\n",
    "    sns.despine(top=True, right=True, left=False, bottom=False)"
   ]
  },
  {
   "cell_type": "code",
   "execution_count": 12,
   "id": "883ff54c",
   "metadata": {},
   "outputs": [
    {
     "data": {
      "text/plain": [
       "(4034, 23)"
      ]
     },
     "execution_count": 12,
     "metadata": {},
     "output_type": "execute_result"
    }
   ],
   "source": [
    "#new shape after dropping unnecassery columns and rows\n",
    "anage.shape"
   ]
  },
  {
   "cell_type": "code",
   "execution_count": null,
   "id": "41ec3ac2",
   "metadata": {},
   "outputs": [],
   "source": []
  },
  {
   "cell_type": "code",
   "execution_count": 13,
   "id": "4c97ffe8",
   "metadata": {},
   "outputs": [],
   "source": [
    "#converting Temperature (K) from kelvins to celsius => eq : C = K - 273.15\n",
    "anage['Temperature (K)'] = anage['Temperature (K)'] - 273.15"
   ]
  },
  {
   "cell_type": "code",
   "execution_count": 14,
   "id": "8ba725f0",
   "metadata": {},
   "outputs": [],
   "source": [
    "#renaming some columns so they make better sense: \n",
    "anage.rename(columns = {\n",
    "    'IMR (per yr)' : 'Infant mortality rate (per yr)', \n",
    "    'MRDT (yrs)' : 'Mortality rate doubling time (yrs)',\n",
    "    'Temperature (K)' : 'Temperature (C)'\n",
    "} , inplace = True)"
   ]
  },
  {
   "cell_type": "markdown",
   "id": "3dee829f",
   "metadata": {},
   "source": [
    "# "
   ]
  },
  {
   "cell_type": "markdown",
   "id": "212048e2",
   "metadata": {},
   "source": [
    "# "
   ]
  },
  {
   "cell_type": "markdown",
   "id": "273c383f",
   "metadata": {},
   "source": [
    "# "
   ]
  },
  {
   "cell_type": "markdown",
   "id": "4484be06",
   "metadata": {},
   "source": [
    "# "
   ]
  },
  {
   "cell_type": "markdown",
   "id": "0ab5fb6a",
   "metadata": {},
   "source": [
    "# "
   ]
  },
  {
   "cell_type": "markdown",
   "id": "fd0eea54",
   "metadata": {},
   "source": [
    "# "
   ]
  },
  {
   "cell_type": "markdown",
   "id": "b400b6a1",
   "metadata": {},
   "source": [
    "# "
   ]
  },
  {
   "cell_type": "markdown",
   "id": "bb4d91a7",
   "metadata": {},
   "source": [
    "# "
   ]
  },
  {
   "cell_type": "markdown",
   "id": "9632d4a7",
   "metadata": {},
   "source": [
    "# "
   ]
  },
  {
   "cell_type": "markdown",
   "id": "9d523a81",
   "metadata": {},
   "source": [
    "# "
   ]
  },
  {
   "cell_type": "markdown",
   "id": "34a553cc",
   "metadata": {},
   "source": [
    "# "
   ]
  },
  {
   "cell_type": "markdown",
   "id": "b3b42b1f",
   "metadata": {},
   "source": [
    "# "
   ]
  },
  {
   "cell_type": "markdown",
   "id": "808e7bc8",
   "metadata": {},
   "source": [
    "# "
   ]
  },
  {
   "cell_type": "markdown",
   "id": "778c1664",
   "metadata": {},
   "source": [
    "# "
   ]
  },
  {
   "cell_type": "markdown",
   "id": "58fabaa5",
   "metadata": {},
   "source": [
    "# "
   ]
  },
  {
   "cell_type": "markdown",
   "id": "674ba30f",
   "metadata": {},
   "source": [
    "# "
   ]
  },
  {
   "cell_type": "markdown",
   "id": "11b667d7",
   "metadata": {},
   "source": [
    "\n",
    "![Image of animals](https://www.freepnglogos.com/uploads/animals-png/animals-vesperius-deviantart-8.png)\n"
   ]
  },
  {
   "cell_type": "markdown",
   "id": "0cfea5bb",
   "metadata": {},
   "source": [
    "# "
   ]
  },
  {
   "cell_type": "markdown",
   "id": "14a5bc23",
   "metadata": {},
   "source": [
    "## Table of content: \n",
    "### [ Top 15 animals with maximum longevity](#top15longevity)\n",
    "### [Top 15 animals with least longevity](#bottom15longevity)\n",
    "### [What is the maximum known age for a human?](#humanage)\n",
    "### [Top 5 longest-lived mammals](#top5agemammals)\n",
    "### [Comparing female and male mamallians' maturity age (in years)](#femaleVSmalemammalsage)\n",
    "### [Species with negligible senescence (examining MRDT)](#mrdt)\n",
    " - ### [Top 10 species with negligible senescence](#mrdt1)\n",
    " - ### [Mortality rate doubling time of a human](#mrdt2)\n",
    " - ### [Ever heard of 'dog years'? How is this calculated? it all has to do with the MRDT!](#mrdt3)\n",
    "\n",
    " \n",
    "### [Observing the correlation between body size and longevity using plots](#massagainstage)\n",
    "- ### [Plotting the correlation combining all 6 classes](#massagainstage1)"
   ]
  },
  {
   "cell_type": "markdown",
   "id": "66e2498a",
   "metadata": {},
   "source": [
    "# "
   ]
  },
  {
   "cell_type": "markdown",
   "id": "53719008",
   "metadata": {},
   "source": [
    "# "
   ]
  },
  {
   "cell_type": "markdown",
   "id": "62be0a7e",
   "metadata": {},
   "source": [
    "# "
   ]
  },
  {
   "cell_type": "markdown",
   "id": "bb46c422",
   "metadata": {},
   "source": [
    "# "
   ]
  },
  {
   "cell_type": "markdown",
   "id": "84945a67",
   "metadata": {},
   "source": [
    "# <a id='top15longevity'>Top 15 animals with maximum longevity:</a>\n",
    "\n"
   ]
  },
  {
   "cell_type": "code",
   "execution_count": 15,
   "id": "0b5c9000",
   "metadata": {
    "scrolled": false
   },
   "outputs": [
    {
     "data": {
      "text/html": [
       "<div>\n",
       "<style scoped>\n",
       "    .dataframe tbody tr th:only-of-type {\n",
       "        vertical-align: middle;\n",
       "    }\n",
       "\n",
       "    .dataframe tbody tr th {\n",
       "        vertical-align: top;\n",
       "    }\n",
       "\n",
       "    .dataframe thead th {\n",
       "        text-align: right;\n",
       "    }\n",
       "</style>\n",
       "<table border=\"1\" class=\"dataframe\">\n",
       "  <thead>\n",
       "    <tr style=\"text-align: right;\">\n",
       "      <th></th>\n",
       "      <th>Maximum longevity (yrs)</th>\n",
       "    </tr>\n",
       "    <tr>\n",
       "      <th>Common name</th>\n",
       "      <th></th>\n",
       "    </tr>\n",
       "  </thead>\n",
       "  <tbody>\n",
       "    <tr>\n",
       "      <th>Great Basin bristlecone pine</th>\n",
       "      <td>5062.0</td>\n",
       "    </tr>\n",
       "    <tr>\n",
       "      <th>African baobab</th>\n",
       "      <td>2500.0</td>\n",
       "    </tr>\n",
       "    <tr>\n",
       "      <th>Common ginkgo</th>\n",
       "      <td>1000.0</td>\n",
       "    </tr>\n",
       "    <tr>\n",
       "      <th>Umbrella thorn</th>\n",
       "      <td>650.0</td>\n",
       "    </tr>\n",
       "    <tr>\n",
       "      <th>Ocean quahog clam</th>\n",
       "      <td>507.0</td>\n",
       "    </tr>\n",
       "    <tr>\n",
       "      <th>Greenland shark</th>\n",
       "      <td>392.0</td>\n",
       "    </tr>\n",
       "    <tr>\n",
       "      <th>Escarpia laminata</th>\n",
       "      <td>300.0</td>\n",
       "    </tr>\n",
       "    <tr>\n",
       "      <th>Seepiophila jonesi</th>\n",
       "      <td>300.0</td>\n",
       "    </tr>\n",
       "    <tr>\n",
       "      <th>Lamellibrachia luymesi</th>\n",
       "      <td>250.0</td>\n",
       "    </tr>\n",
       "    <tr>\n",
       "      <th>Bowhead whale</th>\n",
       "      <td>211.0</td>\n",
       "    </tr>\n",
       "    <tr>\n",
       "      <th>Rougheye rockfish</th>\n",
       "      <td>205.0</td>\n",
       "    </tr>\n",
       "    <tr>\n",
       "      <th>Red sea urchin</th>\n",
       "      <td>200.0</td>\n",
       "    </tr>\n",
       "    <tr>\n",
       "      <th>Galapagos tortoise</th>\n",
       "      <td>177.0</td>\n",
       "    </tr>\n",
       "    <tr>\n",
       "      <th>Pacific geoduck</th>\n",
       "      <td>168.0</td>\n",
       "    </tr>\n",
       "    <tr>\n",
       "      <th>Shortraker rockfish</th>\n",
       "      <td>157.0</td>\n",
       "    </tr>\n",
       "  </tbody>\n",
       "</table>\n",
       "</div>"
      ],
      "text/plain": [
       "                              Maximum longevity (yrs)\n",
       "Common name                                          \n",
       "Great Basin bristlecone pine                   5062.0\n",
       "African baobab                                 2500.0\n",
       "Common ginkgo                                  1000.0\n",
       "Umbrella thorn                                  650.0\n",
       "Ocean quahog clam                               507.0\n",
       "Greenland shark                                 392.0\n",
       "Escarpia laminata                               300.0\n",
       "Seepiophila jonesi                              300.0\n",
       "Lamellibrachia luymesi                          250.0\n",
       "Bowhead whale                                   211.0\n",
       "Rougheye rockfish                               205.0\n",
       "Red sea urchin                                  200.0\n",
       "Galapagos tortoise                              177.0\n",
       "Pacific geoduck                                 168.0\n",
       "Shortraker rockfish                             157.0"
      ]
     },
     "execution_count": 15,
     "metadata": {},
     "output_type": "execute_result"
    }
   ],
   "source": [
    "top15_longevity = anage[['Common name' , 'Maximum longevity (yrs)']].sort_values(by ='Maximum longevity (yrs)', ascending = False).dropna().head(15).set_index('Common name')\n",
    "top15_longevity"
   ]
  },
  {
   "cell_type": "code",
   "execution_count": 43,
   "id": "b8a3377a",
   "metadata": {
    "scrolled": false
   },
   "outputs": [
    {
     "data": {
      "image/png": "[encoded data removed]",
      "text/plain": [
       "<Figure size 864x576 with 1 Axes>"
      ]
     },
     "metadata": {},
     "output_type": "display_data"
    }
   ],
   "source": [
    "top15_longevity.plot.barh(figsize=(12,8), color = '#444F5A')\n",
    "plt.title(\"Top 15 animals with maximum known longevity\", loc=\"center\")\n",
    "plt.ylabel('')\n",
    "plt.gca().invert_yaxis()\n",
    "plt.gca().xaxis.set_major_locator(plt.MultipleLocator(500))"
   ]
  },
  {
   "cell_type": "markdown",
   "id": "220d5b3f",
   "metadata": {},
   "source": [
    "# "
   ]
  },
  {
   "cell_type": "markdown",
   "id": "99672c70",
   "metadata": {},
   "source": [
    "# <a id='bottom15longevity'>Top 15 animals with least longevity:</a>"
   ]
  },
  {
   "cell_type": "code",
   "execution_count": 17,
   "id": "b4fe3f90",
   "metadata": {
    "scrolled": false
   },
   "outputs": [
    {
     "data": {
      "text/html": [
       "<div>\n",
       "<style scoped>\n",
       "    .dataframe tbody tr th:only-of-type {\n",
       "        vertical-align: middle;\n",
       "    }\n",
       "\n",
       "    .dataframe tbody tr th {\n",
       "        vertical-align: top;\n",
       "    }\n",
       "\n",
       "    .dataframe thead th {\n",
       "        text-align: right;\n",
       "    }\n",
       "</style>\n",
       "<table border=\"1\" class=\"dataframe\">\n",
       "  <thead>\n",
       "    <tr style=\"text-align: right;\">\n",
       "      <th></th>\n",
       "      <th>Maximum longevity (yrs)</th>\n",
       "    </tr>\n",
       "    <tr>\n",
       "      <th>Common name</th>\n",
       "      <th></th>\n",
       "    </tr>\n",
       "  </thead>\n",
       "  <tbody>\n",
       "    <tr>\n",
       "      <th>Kilombero</th>\n",
       "      <td>0.80</td>\n",
       "    </tr>\n",
       "    <tr>\n",
       "      <th>California seahare</th>\n",
       "      <td>0.60</td>\n",
       "    </tr>\n",
       "    <tr>\n",
       "      <th>Bassian thrush</th>\n",
       "      <td>0.60</td>\n",
       "    </tr>\n",
       "    <tr>\n",
       "      <th>Cardiocondyla obscurior</th>\n",
       "      <td>0.50</td>\n",
       "    </tr>\n",
       "    <tr>\n",
       "      <th>Squinting bush brown</th>\n",
       "      <td>0.50</td>\n",
       "    </tr>\n",
       "    <tr>\n",
       "      <th>Mediterranean fruit fly</th>\n",
       "      <td>0.49</td>\n",
       "    </tr>\n",
       "    <tr>\n",
       "      <th>Fruit fly</th>\n",
       "      <td>0.30</td>\n",
       "    </tr>\n",
       "    <tr>\n",
       "      <th>Buff tailed bumblebee</th>\n",
       "      <td>0.27</td>\n",
       "    </tr>\n",
       "    <tr>\n",
       "      <th>Daphnia</th>\n",
       "      <td>0.19</td>\n",
       "    </tr>\n",
       "    <tr>\n",
       "      <th>Roundworm</th>\n",
       "      <td>0.16</td>\n",
       "    </tr>\n",
       "    <tr>\n",
       "      <th>Pygmy goby</th>\n",
       "      <td>0.16</td>\n",
       "    </tr>\n",
       "    <tr>\n",
       "      <th>Mealybug</th>\n",
       "      <td>0.08</td>\n",
       "    </tr>\n",
       "    <tr>\n",
       "      <th>Telostylinus angusticollis</th>\n",
       "      <td>0.05</td>\n",
       "    </tr>\n",
       "    <tr>\n",
       "      <th>Baker's yeast</th>\n",
       "      <td>0.04</td>\n",
       "    </tr>\n",
       "    <tr>\n",
       "      <th>Escherichia coli</th>\n",
       "      <td>0.01</td>\n",
       "    </tr>\n",
       "  </tbody>\n",
       "</table>\n",
       "</div>"
      ],
      "text/plain": [
       "                            Maximum longevity (yrs)\n",
       "Common name                                        \n",
       "Kilombero                                      0.80\n",
       "California seahare                             0.60\n",
       "Bassian thrush                                 0.60\n",
       "Cardiocondyla obscurior                        0.50\n",
       "Squinting bush brown                           0.50\n",
       "Mediterranean fruit fly                        0.49\n",
       "Fruit fly                                      0.30\n",
       "Buff tailed bumblebee                          0.27\n",
       "Daphnia                                        0.19\n",
       "Roundworm                                      0.16\n",
       "Pygmy goby                                     0.16\n",
       "Mealybug                                       0.08\n",
       "Telostylinus angusticollis                     0.05\n",
       "Baker's yeast                                  0.04\n",
       "Escherichia coli                               0.01"
      ]
     },
     "execution_count": 17,
     "metadata": {},
     "output_type": "execute_result"
    }
   ],
   "source": [
    "bottom15_longevity = anage[['Common name' , 'Maximum longevity (yrs)']].sort_values(by ='Maximum longevity (yrs)', ascending = False).dropna().tail(15).set_index('Common name')\n",
    "bottom15_longevity"
   ]
  },
  {
   "cell_type": "code",
   "execution_count": 18,
   "id": "bcdc3108",
   "metadata": {
    "scrolled": false
   },
   "outputs": [
    {
     "data": {
      "image/png": "[encoded data removed]",
      "text/plain": [
       "<Figure size 864x576 with 1 Axes>"
      ]
     },
     "metadata": {},
     "output_type": "display_data"
    }
   ],
   "source": [
    "bottom15_longevity.plot.barh(figsize=(12,8), color ='#444F5A')\n",
    "plt.title(\"Top 15 animals with least known longevity\", loc=\"center\")\n",
    "plt.ylabel('')\n",
    "plt.gca().invert_yaxis()"
   ]
  },
  {
   "cell_type": "markdown",
   "id": "902ce4df",
   "metadata": {},
   "source": [
    "# "
   ]
  },
  {
   "cell_type": "markdown",
   "id": "35873b75",
   "metadata": {},
   "source": [
    "# <a id='humanage'>What is the maximum known age for a human? </a>"
   ]
  },
  {
   "cell_type": "code",
   "execution_count": 19,
   "id": "fb7339fc",
   "metadata": {
    "scrolled": false
   },
   "outputs": [
    {
     "data": {
      "text/html": [
       "<div>\n",
       "<style scoped>\n",
       "    .dataframe tbody tr th:only-of-type {\n",
       "        vertical-align: middle;\n",
       "    }\n",
       "\n",
       "    .dataframe tbody tr th {\n",
       "        vertical-align: top;\n",
       "    }\n",
       "\n",
       "    .dataframe thead th {\n",
       "        text-align: right;\n",
       "    }\n",
       "</style>\n",
       "<table border=\"1\" class=\"dataframe\">\n",
       "  <thead>\n",
       "    <tr style=\"text-align: right;\">\n",
       "      <th></th>\n",
       "      <th>Maximum longevity (yrs)</th>\n",
       "    </tr>\n",
       "    <tr>\n",
       "      <th>Common name</th>\n",
       "      <th></th>\n",
       "    </tr>\n",
       "  </thead>\n",
       "  <tbody>\n",
       "    <tr>\n",
       "      <th>Human</th>\n",
       "      <td>122.5</td>\n",
       "    </tr>\n",
       "  </tbody>\n",
       "</table>\n",
       "</div>"
      ],
      "text/plain": [
       "             Maximum longevity (yrs)\n",
       "Common name                         \n",
       "Human                          122.5"
      ]
     },
     "execution_count": 19,
     "metadata": {},
     "output_type": "execute_result"
    }
   ],
   "source": [
    "anage[anage['Common name'] == 'Human'].set_index('Common name')[['Maximum longevity (yrs)']]"
   ]
  },
  {
   "cell_type": "markdown",
   "id": "4003c637",
   "metadata": {},
   "source": [
    "# "
   ]
  },
  {
   "cell_type": "markdown",
   "id": "e8b2c15c",
   "metadata": {},
   "source": [
    "<img src=\"https://pp.userapi.com/c841536/v841536639/344fc/7VvWx8sJ5_w.jpg\" \n",
    "     align=\"left\" \n",
    " />"
   ]
  },
  {
   "cell_type": "markdown",
   "id": "a1f3927e",
   "metadata": {},
   "source": [
    "#### Did you know?\n",
    "\n",
    "The longest documented and verified human lifespan is that of Jeanne Calment of France (1875–1997), a woman who lived to age 122 years and 164 days."
   ]
  },
  {
   "cell_type": "markdown",
   "id": "6ee7804a",
   "metadata": {},
   "source": [
    "# "
   ]
  },
  {
   "cell_type": "markdown",
   "id": "190b4c33",
   "metadata": {},
   "source": [
    "# <a id='top5agemammals'>Top 5 longest-lived mammals:</a>"
   ]
  },
  {
   "cell_type": "code",
   "execution_count": 20,
   "id": "611df58f",
   "metadata": {},
   "outputs": [],
   "source": [
    "mammals = anage['Class'] == 'Mammalia'"
   ]
  },
  {
   "cell_type": "code",
   "execution_count": 21,
   "id": "1b732ba2",
   "metadata": {
    "scrolled": true
   },
   "outputs": [
    {
     "data": {
      "text/html": [
       "<div>\n",
       "<style scoped>\n",
       "    .dataframe tbody tr th:only-of-type {\n",
       "        vertical-align: middle;\n",
       "    }\n",
       "\n",
       "    .dataframe tbody tr th {\n",
       "        vertical-align: top;\n",
       "    }\n",
       "\n",
       "    .dataframe thead th {\n",
       "        text-align: right;\n",
       "    }\n",
       "</style>\n",
       "<table border=\"1\" class=\"dataframe\">\n",
       "  <thead>\n",
       "    <tr style=\"text-align: right;\">\n",
       "      <th></th>\n",
       "      <th>Maximum longevity (yrs)</th>\n",
       "    </tr>\n",
       "    <tr>\n",
       "      <th>Common name</th>\n",
       "      <th></th>\n",
       "    </tr>\n",
       "  </thead>\n",
       "  <tbody>\n",
       "    <tr>\n",
       "      <th>Bowhead whale</th>\n",
       "      <td>211.0</td>\n",
       "    </tr>\n",
       "    <tr>\n",
       "      <th>Human</th>\n",
       "      <td>122.5</td>\n",
       "    </tr>\n",
       "    <tr>\n",
       "      <th>Fin whale</th>\n",
       "      <td>114.0</td>\n",
       "    </tr>\n",
       "    <tr>\n",
       "      <th>Blue whale</th>\n",
       "      <td>110.0</td>\n",
       "    </tr>\n",
       "    <tr>\n",
       "      <th>Humpback whale</th>\n",
       "      <td>95.0</td>\n",
       "    </tr>\n",
       "  </tbody>\n",
       "</table>\n",
       "</div>"
      ],
      "text/plain": [
       "                Maximum longevity (yrs)\n",
       "Common name                            \n",
       "Bowhead whale                     211.0\n",
       "Human                             122.5\n",
       "Fin whale                         114.0\n",
       "Blue whale                        110.0\n",
       "Humpback whale                     95.0"
      ]
     },
     "execution_count": 21,
     "metadata": {},
     "output_type": "execute_result"
    }
   ],
   "source": [
    "top5_longest_lived_mammals = anage[mammals][['Common name' , 'Maximum longevity (yrs)']].set_index('Common name').sort_values(by='Maximum longevity (yrs)',ascending = False).head(5)\n",
    "top5_longest_lived_mammals"
   ]
  },
  {
   "cell_type": "code",
   "execution_count": 42,
   "id": "27bc7813",
   "metadata": {
    "scrolled": false
   },
   "outputs": [
    {
     "data": {
      "text/plain": [
       "<AxesSubplot:>"
      ]
     },
     "execution_count": 42,
     "metadata": {},
     "output_type": "execute_result"
    },
    {
     "data": {
      "image/png": "[encoded data removed]",
      "text/plain": [
       "<Figure size 720x432 with 1 Axes>"
      ]
     },
     "metadata": {},
     "output_type": "display_data"
    }
   ],
   "source": [
    "top5_longest_lived_mammals.plot(kind ='bar' , figsize = (10,6), xlabel='',color='#444F5A',edgecolor='black', alpha=0.6)"
   ]
  },
  {
   "cell_type": "markdown",
   "id": "27c3552d",
   "metadata": {},
   "source": [
    "# "
   ]
  },
  {
   "cell_type": "markdown",
   "id": "6d46d06a",
   "metadata": {},
   "source": [
    "\n",
    "# <a id='femaleVSmalemammalsage'>Comparing female and male mamallians' maturity age (in years):</a>"
   ]
  },
  {
   "cell_type": "code",
   "execution_count": 23,
   "id": "908206bd",
   "metadata": {},
   "outputs": [
    {
     "data": {
      "text/html": [
       "<div>\n",
       "<style scoped>\n",
       "    .dataframe tbody tr th:only-of-type {\n",
       "        vertical-align: middle;\n",
       "    }\n",
       "\n",
       "    .dataframe tbody tr th {\n",
       "        vertical-align: top;\n",
       "    }\n",
       "\n",
       "    .dataframe thead th {\n",
       "        text-align: right;\n",
       "    }\n",
       "</style>\n",
       "<table border=\"1\" class=\"dataframe\">\n",
       "  <thead>\n",
       "    <tr style=\"text-align: right;\">\n",
       "      <th></th>\n",
       "      <th>Female maturity (days)</th>\n",
       "      <th>Male maturity (days)</th>\n",
       "    </tr>\n",
       "    <tr>\n",
       "      <th>Common name</th>\n",
       "      <th></th>\n",
       "      <th></th>\n",
       "    </tr>\n",
       "  </thead>\n",
       "  <tbody>\n",
       "    <tr>\n",
       "      <th>Bowhead whale</th>\n",
       "      <td>22.498630</td>\n",
       "      <td>22.498630</td>\n",
       "    </tr>\n",
       "    <tr>\n",
       "      <th>Human</th>\n",
       "      <td>13.000000</td>\n",
       "      <td>14.000000</td>\n",
       "    </tr>\n",
       "    <tr>\n",
       "      <th>Baird's beaked whale</th>\n",
       "      <td>12.008219</td>\n",
       "      <td>8.005479</td>\n",
       "    </tr>\n",
       "    <tr>\n",
       "      <th>Melon-headed whale</th>\n",
       "      <td>11.753425</td>\n",
       "      <td>6.753425</td>\n",
       "    </tr>\n",
       "    <tr>\n",
       "      <th>African bush elephant</th>\n",
       "      <td>11.008219</td>\n",
       "      <td>10.000000</td>\n",
       "    </tr>\n",
       "    <tr>\n",
       "      <th>Killer whale</th>\n",
       "      <td>10.356164</td>\n",
       "      <td>13.506849</td>\n",
       "    </tr>\n",
       "    <tr>\n",
       "      <th>Northern bottlenose whale</th>\n",
       "      <td>10.005479</td>\n",
       "      <td>9.005479</td>\n",
       "    </tr>\n",
       "    <tr>\n",
       "      <th>Sei whale</th>\n",
       "      <td>10.005479</td>\n",
       "      <td>10.005479</td>\n",
       "    </tr>\n",
       "    <tr>\n",
       "      <th>Risso's dolphin</th>\n",
       "      <td>10.005479</td>\n",
       "      <td>10.005479</td>\n",
       "    </tr>\n",
       "    <tr>\n",
       "      <th>Rough-toothed dolphin</th>\n",
       "      <td>10.000000</td>\n",
       "      <td>7.504110</td>\n",
       "    </tr>\n",
       "    <tr>\n",
       "      <th>Dugong</th>\n",
       "      <td>9.506849</td>\n",
       "      <td>9.506849</td>\n",
       "    </tr>\n",
       "    <tr>\n",
       "      <th>Short-finned pilot whale</th>\n",
       "      <td>9.506849</td>\n",
       "      <td>14.608219</td>\n",
       "    </tr>\n",
       "    <tr>\n",
       "      <th>False killer whale</th>\n",
       "      <td>9.501370</td>\n",
       "      <td>18.509589</td>\n",
       "    </tr>\n",
       "    <tr>\n",
       "      <th>Chimpanzee</th>\n",
       "      <td>9.249315</td>\n",
       "      <td>8.000000</td>\n",
       "    </tr>\n",
       "    <tr>\n",
       "      <th>Asiatic elephant</th>\n",
       "      <td>9.005479</td>\n",
       "      <td>9.005479</td>\n",
       "    </tr>\n",
       "  </tbody>\n",
       "</table>\n",
       "</div>"
      ],
      "text/plain": [
       "                           Female maturity (days)  Male maturity (days)\n",
       "Common name                                                            \n",
       "Bowhead whale                           22.498630             22.498630\n",
       "Human                                   13.000000             14.000000\n",
       "Baird's beaked whale                    12.008219              8.005479\n",
       "Melon-headed whale                      11.753425              6.753425\n",
       "African bush elephant                   11.008219             10.000000\n",
       "Killer whale                            10.356164             13.506849\n",
       "Northern bottlenose whale               10.005479              9.005479\n",
       "Sei whale                               10.005479             10.005479\n",
       "Risso's dolphin                         10.005479             10.005479\n",
       "Rough-toothed dolphin                   10.000000              7.504110\n",
       "Dugong                                   9.506849              9.506849\n",
       "Short-finned pilot whale                 9.506849             14.608219\n",
       "False killer whale                       9.501370             18.509589\n",
       "Chimpanzee                               9.249315              8.000000\n",
       "Asiatic elephant                         9.005479              9.005479"
      ]
     },
     "execution_count": 23,
     "metadata": {},
     "output_type": "execute_result"
    }
   ],
   "source": [
    "#creating a dataset where cols are maturity of female / maturity of males, and setting the index to the animal's common name.\n",
    "df = anage[mammals][['Common name','Female maturity (days)','Male maturity (days)']].dropna().set_index('Common name').sort_values(by =['Female maturity (days)' ],ascending = False).head(15)/365\n",
    "df"
   ]
  },
  {
   "cell_type": "code",
   "execution_count": 41,
   "id": "076e1bf7",
   "metadata": {
    "scrolled": false
   },
   "outputs": [
    {
     "data": {
      "image/png": "[encoded data removed]",
      "text/plain": [
       "<Figure size 1080x720 with 1 Axes>"
      ]
     },
     "metadata": {},
     "output_type": "display_data"
    }
   ],
   "source": [
    "\n",
    "#plotting the dataframe\n",
    "df.plot(kind=\"barh\",figsize=(15,10),width=0.5,color=['#C06C84', '#444F5A'], xlabel='')\n",
    "plt.gca().xaxis.set_major_locator(plt.MultipleLocator(1))\n"
   ]
  },
  {
   "cell_type": "markdown",
   "id": "98b18c7b",
   "metadata": {},
   "source": [
    "# "
   ]
  },
  {
   "cell_type": "markdown",
   "id": "22a279f5",
   "metadata": {},
   "source": [
    "# <a id='mrdt'>Species with negligible senescence (examining MRDT):</a>"
   ]
  },
  {
   "cell_type": "markdown",
   "id": "07f48668",
   "metadata": {},
   "source": [
    "\n",
    "- MRDT, or Mortality Rate Doubling Time, is the rate at which mortality increases the double by age. Often used as a species-typical measure of aging, because it doesn't seem to vary much within species. Basically it's a measurement of senescence rate. For example: The MRDT of the *Killer Whale* is *14*. This translates to: the *Killer Whale* ages twice as much every 14 years."
   ]
  },
  {
   "cell_type": "markdown",
   "id": "e39daa97",
   "metadata": {},
   "source": [
    "- ## Top 10 species with negligible senescence:\n",
    "<a id='mrdt1'></a>"
   ]
  },
  {
   "cell_type": "code",
   "execution_count": 25,
   "id": "f95f5c15",
   "metadata": {
    "scrolled": true
   },
   "outputs": [
    {
     "data": {
      "text/html": [
       "<div>\n",
       "<style scoped>\n",
       "    .dataframe tbody tr th:only-of-type {\n",
       "        vertical-align: middle;\n",
       "    }\n",
       "\n",
       "    .dataframe tbody tr th {\n",
       "        vertical-align: top;\n",
       "    }\n",
       "\n",
       "    .dataframe thead th {\n",
       "        text-align: right;\n",
       "    }\n",
       "</style>\n",
       "<table border=\"1\" class=\"dataframe\">\n",
       "  <thead>\n",
       "    <tr style=\"text-align: right;\">\n",
       "      <th></th>\n",
       "      <th>Common name</th>\n",
       "      <th>Maximum longevity (yrs)</th>\n",
       "      <th>Mortality rate doubling time (yrs)</th>\n",
       "    </tr>\n",
       "    <tr>\n",
       "      <th>Species</th>\n",
       "      <th></th>\n",
       "      <th></th>\n",
       "      <th></th>\n",
       "    </tr>\n",
       "  </thead>\n",
       "  <tbody>\n",
       "    <tr>\n",
       "      <th>longaeva</th>\n",
       "      <td>Great Basin bristlecone pine</td>\n",
       "      <td>5062.0</td>\n",
       "      <td>999.0</td>\n",
       "    </tr>\n",
       "    <tr>\n",
       "      <th>islandica</th>\n",
       "      <td>Ocean quahog clam</td>\n",
       "      <td>507.0</td>\n",
       "      <td>999.0</td>\n",
       "    </tr>\n",
       "    <tr>\n",
       "      <th>anguinus</th>\n",
       "      <td>Olm</td>\n",
       "      <td>102.0</td>\n",
       "      <td>999.0</td>\n",
       "    </tr>\n",
       "    <tr>\n",
       "      <th>carolina</th>\n",
       "      <td>Eastern box turtle</td>\n",
       "      <td>138.0</td>\n",
       "      <td>999.0</td>\n",
       "    </tr>\n",
       "    <tr>\n",
       "      <th>aleutianus</th>\n",
       "      <td>Rougheye rockfish</td>\n",
       "      <td>205.0</td>\n",
       "      <td>999.0</td>\n",
       "    </tr>\n",
       "    <tr>\n",
       "      <th>franciscanus</th>\n",
       "      <td>Red sea urchin</td>\n",
       "      <td>200.0</td>\n",
       "      <td>999.0</td>\n",
       "    </tr>\n",
       "    <tr>\n",
       "      <th>blandingii</th>\n",
       "      <td>Blanding's turtle</td>\n",
       "      <td>77.0</td>\n",
       "      <td>999.0</td>\n",
       "    </tr>\n",
       "    <tr>\n",
       "      <th>salamandra</th>\n",
       "      <td>European fire salamander</td>\n",
       "      <td>24.0</td>\n",
       "      <td>999.0</td>\n",
       "    </tr>\n",
       "    <tr>\n",
       "      <th>fazilae</th>\n",
       "      <td>Fazila's salamander</td>\n",
       "      <td>10.0</td>\n",
       "      <td>999.0</td>\n",
       "    </tr>\n",
       "    <tr>\n",
       "      <th>fluviatilis</th>\n",
       "      <td>Eurasian perch</td>\n",
       "      <td>22.0</td>\n",
       "      <td>27.0</td>\n",
       "    </tr>\n",
       "  </tbody>\n",
       "</table>\n",
       "</div>"
      ],
      "text/plain": [
       "                               Common name  Maximum longevity (yrs)  \\\n",
       "Species                                                               \n",
       "longaeva      Great Basin bristlecone pine                   5062.0   \n",
       "islandica                Ocean quahog clam                    507.0   \n",
       "anguinus                               Olm                    102.0   \n",
       "carolina                Eastern box turtle                    138.0   \n",
       "aleutianus               Rougheye rockfish                    205.0   \n",
       "franciscanus                Red sea urchin                    200.0   \n",
       "blandingii               Blanding's turtle                     77.0   \n",
       "salamandra        European fire salamander                     24.0   \n",
       "fazilae                Fazila's salamander                     10.0   \n",
       "fluviatilis                 Eurasian perch                     22.0   \n",
       "\n",
       "              Mortality rate doubling time (yrs)  \n",
       "Species                                           \n",
       "longaeva                                   999.0  \n",
       "islandica                                  999.0  \n",
       "anguinus                                   999.0  \n",
       "carolina                                   999.0  \n",
       "aleutianus                                 999.0  \n",
       "franciscanus                               999.0  \n",
       "blandingii                                 999.0  \n",
       "salamandra                                 999.0  \n",
       "fazilae                                    999.0  \n",
       "fluviatilis                                 27.0  "
      ]
     },
     "execution_count": 25,
     "metadata": {},
     "output_type": "execute_result"
    }
   ],
   "source": [
    "#These 10 species have age independent mortality.\n",
    "species_with_negligible_senescene = anage[['Species' ,'Common name', 'Maximum longevity (yrs)','Mortality rate doubling time (yrs)']].set_index('Species').sort_values(by = 'Mortality rate doubling time (yrs)', ascending = False).head(10)\n",
    "species_with_negligible_senescene"
   ]
  },
  {
   "cell_type": "markdown",
   "id": "956dcded",
   "metadata": {},
   "source": [
    "*Notice the HUGE decrease in MRDT between the top 9 species and the fluviatilis specie. However, when you compare it to the maximum longevity, you quickly find it is indeed negligible.*"
   ]
  },
  {
   "cell_type": "markdown",
   "id": "d6ec6c05",
   "metadata": {},
   "source": [
    "- ## 10 species with least measured MRDT:\n",
    "<a id='mrdt2'></a>"
   ]
  },
  {
   "cell_type": "code",
   "execution_count": 26,
   "id": "4566cb94",
   "metadata": {},
   "outputs": [
    {
     "data": {
      "text/html": [
       "<div>\n",
       "<style scoped>\n",
       "    .dataframe tbody tr th:only-of-type {\n",
       "        vertical-align: middle;\n",
       "    }\n",
       "\n",
       "    .dataframe tbody tr th {\n",
       "        vertical-align: top;\n",
       "    }\n",
       "\n",
       "    .dataframe thead th {\n",
       "        text-align: right;\n",
       "    }\n",
       "</style>\n",
       "<table border=\"1\" class=\"dataframe\">\n",
       "  <thead>\n",
       "    <tr style=\"text-align: right;\">\n",
       "      <th></th>\n",
       "      <th>Common name</th>\n",
       "      <th>Maximum longevity (yrs)</th>\n",
       "      <th>Mortality rate doubling time (yrs)</th>\n",
       "    </tr>\n",
       "    <tr>\n",
       "      <th>Species</th>\n",
       "      <th></th>\n",
       "      <th></th>\n",
       "      <th></th>\n",
       "    </tr>\n",
       "  </thead>\n",
       "  <tbody>\n",
       "    <tr>\n",
       "      <th>melanogaster</th>\n",
       "      <td>Fruit fly</td>\n",
       "      <td>0.30</td>\n",
       "      <td>0.04</td>\n",
       "    </tr>\n",
       "    <tr>\n",
       "      <th>elegans</th>\n",
       "      <td>Roundworm</td>\n",
       "      <td>0.16</td>\n",
       "      <td>0.04</td>\n",
       "    </tr>\n",
       "    <tr>\n",
       "      <th>adloffi</th>\n",
       "      <td>Annual fish</td>\n",
       "      <td>3.70</td>\n",
       "      <td>0.10</td>\n",
       "    </tr>\n",
       "    <tr>\n",
       "      <th>norvegicus</th>\n",
       "      <td>Norway rat</td>\n",
       "      <td>3.80</td>\n",
       "      <td>0.30</td>\n",
       "    </tr>\n",
       "    <tr>\n",
       "      <th>musculus</th>\n",
       "      <td>House mouse</td>\n",
       "      <td>4.00</td>\n",
       "      <td>0.30</td>\n",
       "    </tr>\n",
       "    <tr>\n",
       "      <th>leucopus</th>\n",
       "      <td>White-footed mouse</td>\n",
       "      <td>7.90</td>\n",
       "      <td>0.50</td>\n",
       "    </tr>\n",
       "    <tr>\n",
       "      <th>reticulata</th>\n",
       "      <td>Guppy</td>\n",
       "      <td>5.00</td>\n",
       "      <td>0.80</td>\n",
       "    </tr>\n",
       "    <tr>\n",
       "      <th>japonica</th>\n",
       "      <td>Japanese quail</td>\n",
       "      <td>6.00</td>\n",
       "      <td>1.20</td>\n",
       "    </tr>\n",
       "    <tr>\n",
       "      <th>dalli</th>\n",
       "      <td>Dall's sheep</td>\n",
       "      <td>19.60</td>\n",
       "      <td>1.50</td>\n",
       "    </tr>\n",
       "    <tr>\n",
       "      <th>rubecula</th>\n",
       "      <td>European robin</td>\n",
       "      <td>19.30</td>\n",
       "      <td>1.60</td>\n",
       "    </tr>\n",
       "  </tbody>\n",
       "</table>\n",
       "</div>"
      ],
      "text/plain": [
       "                     Common name  Maximum longevity (yrs)  \\\n",
       "Species                                                     \n",
       "melanogaster           Fruit fly                     0.30   \n",
       "elegans                Roundworm                     0.16   \n",
       "adloffi              Annual fish                     3.70   \n",
       "norvegicus            Norway rat                     3.80   \n",
       "musculus             House mouse                     4.00   \n",
       "leucopus      White-footed mouse                     7.90   \n",
       "reticulata                 Guppy                     5.00   \n",
       "japonica          Japanese quail                     6.00   \n",
       "dalli               Dall's sheep                    19.60   \n",
       "rubecula          European robin                    19.30   \n",
       "\n",
       "              Mortality rate doubling time (yrs)  \n",
       "Species                                           \n",
       "melanogaster                                0.04  \n",
       "elegans                                     0.04  \n",
       "adloffi                                     0.10  \n",
       "norvegicus                                  0.30  \n",
       "musculus                                    0.30  \n",
       "leucopus                                    0.50  \n",
       "reticulata                                  0.80  \n",
       "japonica                                    1.20  \n",
       "dalli                                       1.50  \n",
       "rubecula                                    1.60  "
      ]
     },
     "execution_count": 26,
     "metadata": {},
     "output_type": "execute_result"
    }
   ],
   "source": [
    "#These 10 species have age independent mortality.\n",
    "species_with_high_senescene = anage[['Species' ,'Common name', 'Maximum longevity (yrs)','Mortality rate doubling time (yrs)']].set_index('Species').sort_values(by = 'Mortality rate doubling time (yrs)').head(10)\n",
    "species_with_high_senescene"
   ]
  },
  {
   "cell_type": "markdown",
   "id": "d9b01059",
   "metadata": {},
   "source": [
    "- ## Mortality rate doubling time of a human:\n",
    "<a id='mrdt2'></a>"
   ]
  },
  {
   "cell_type": "code",
   "execution_count": 27,
   "id": "149c34ab",
   "metadata": {
    "scrolled": false
   },
   "outputs": [
    {
     "data": {
      "text/html": [
       "<div>\n",
       "<style scoped>\n",
       "    .dataframe tbody tr th:only-of-type {\n",
       "        vertical-align: middle;\n",
       "    }\n",
       "\n",
       "    .dataframe tbody tr th {\n",
       "        vertical-align: top;\n",
       "    }\n",
       "\n",
       "    .dataframe thead th {\n",
       "        text-align: right;\n",
       "    }\n",
       "</style>\n",
       "<table border=\"1\" class=\"dataframe\">\n",
       "  <thead>\n",
       "    <tr style=\"text-align: right;\">\n",
       "      <th></th>\n",
       "      <th>Mortality rate doubling time (yrs)</th>\n",
       "    </tr>\n",
       "    <tr>\n",
       "      <th>Common name</th>\n",
       "      <th></th>\n",
       "    </tr>\n",
       "  </thead>\n",
       "  <tbody>\n",
       "    <tr>\n",
       "      <th>Human</th>\n",
       "      <td>8.0</td>\n",
       "    </tr>\n",
       "  </tbody>\n",
       "</table>\n",
       "</div>"
      ],
      "text/plain": [
       "             Mortality rate doubling time (yrs)\n",
       "Common name                                    \n",
       "Human                                       8.0"
      ]
     },
     "execution_count": 27,
     "metadata": {},
     "output_type": "execute_result"
    }
   ],
   "source": [
    "#MRDT of a human\n",
    "anage[anage['Common name'] == 'Human'].set_index('Common name')[['Mortality rate doubling time (yrs)']]"
   ]
  },
  {
   "cell_type": "markdown",
   "id": "093590b5",
   "metadata": {},
   "source": [
    "- ## Ever heard of 'dog years'? How is this calculated? it all has to do with the MRDT of humans vs that of domestic dogs:\n",
    "<a id='mrdt3'></a>"
   ]
  },
  {
   "cell_type": "code",
   "execution_count": 28,
   "id": "942ea23c",
   "metadata": {},
   "outputs": [
    {
     "data": {
      "text/html": [
       "<div>\n",
       "<style scoped>\n",
       "    .dataframe tbody tr th:only-of-type {\n",
       "        vertical-align: middle;\n",
       "    }\n",
       "\n",
       "    .dataframe tbody tr th {\n",
       "        vertical-align: top;\n",
       "    }\n",
       "\n",
       "    .dataframe thead th {\n",
       "        text-align: right;\n",
       "    }\n",
       "</style>\n",
       "<table border=\"1\" class=\"dataframe\">\n",
       "  <thead>\n",
       "    <tr style=\"text-align: right;\">\n",
       "      <th></th>\n",
       "      <th>Mortality rate doubling time (yrs)</th>\n",
       "    </tr>\n",
       "    <tr>\n",
       "      <th>Common name</th>\n",
       "      <th></th>\n",
       "    </tr>\n",
       "  </thead>\n",
       "  <tbody>\n",
       "    <tr>\n",
       "      <th>Domestic dog</th>\n",
       "      <td>3.0</td>\n",
       "    </tr>\n",
       "  </tbody>\n",
       "</table>\n",
       "</div>"
      ],
      "text/plain": [
       "              Mortality rate doubling time (yrs)\n",
       "Common name                                     \n",
       "Domestic dog                                 3.0"
      ]
     },
     "execution_count": 28,
     "metadata": {},
     "output_type": "execute_result"
    }
   ],
   "source": [
    "#MRDT of a dog\n",
    "anage[anage['Common name'] == 'Domestic dog'].set_index('Common name')[['Mortality rate doubling time (yrs)']]"
   ]
  },
  {
   "cell_type": "code",
   "execution_count": null,
   "id": "06e33dd9",
   "metadata": {},
   "outputs": [],
   "source": []
  },
  {
   "cell_type": "markdown",
   "id": "0743d7a8",
   "metadata": {},
   "source": [
    "# "
   ]
  },
  {
   "cell_type": "markdown",
   "id": "484e1727",
   "metadata": {},
   "source": [
    "\n",
    "# <a id='massagainstage'>Observing the correlation between body size and longevity using plots:</a>"
   ]
  },
  {
   "cell_type": "code",
   "execution_count": 29,
   "id": "a76f4070",
   "metadata": {},
   "outputs": [],
   "source": [
    "#Log normalization of data , and addidn two columns into the dataset.\n",
    "anage['Log of adult weight (g)'] = np.log(anage['Adult weight (g)'])\n",
    "anage['Log of maximum longevity (yrs)'] = np.log(anage['Maximum longevity (yrs)'])"
   ]
  },
  {
   "cell_type": "code",
   "execution_count": 30,
   "id": "a5b1db9f",
   "metadata": {
    "scrolled": true
   },
   "outputs": [
    {
     "data": {
      "text/plain": [
       "Aves                  1346\n",
       "Mammalia              1003\n",
       "Teleostei              794\n",
       "Reptilia               511\n",
       "Amphibia               154\n",
       "Chondrichthyes         116\n",
       "Bivalvia                42\n",
       "Cephalaspidomorphi      16\n",
       "Chondrostei             14\n",
       "Insecta                  9\n",
       "Holostei                 4\n",
       "Polychaeta               3\n",
       "Actinopterygii           3\n",
       "Magnoliopsida            2\n",
       "Dipnoi                   2\n",
       "Name: Class, dtype: int64"
      ]
     },
     "execution_count": 30,
     "metadata": {},
     "output_type": "execute_result"
    }
   ],
   "source": [
    "classes = anage['Class'].value_counts().head(15)\n",
    "classes\n",
    "#notice the sample size starting at the Bivalvia class is kind of low compared to top 6 classes\n",
    "# I will only be sticking to examining the first 6 classes."
   ]
  },
  {
   "cell_type": "code",
   "execution_count": 31,
   "id": "7bbf42c7",
   "metadata": {},
   "outputs": [],
   "source": [
    "# Creating a dataframe containing the log values of adult weight against longevity for 6 most common classes in dataset.\n",
    "# I also dropped NA values.\n",
    "weight_against_longevity = anage[anage['Class'].isin(classes.head(6).index)][['Class','Log of adult weight (g)' , 'Log of maximum longevity (yrs)']].dropna()"
   ]
  },
  {
   "cell_type": "code",
   "execution_count": 32,
   "id": "a07f3b04",
   "metadata": {},
   "outputs": [],
   "source": [
    "# Creating class filters for later use in subplotting.\n",
    "aves = weight_against_longevity['Class']=='Aves'\n",
    "mammalia =weight_against_longevity['Class']=='Mammalia'\n",
    "teleostei = weight_against_longevity['Class']=='Teleostei'\n",
    "reptilia  = weight_against_longevity['Class']=='Reptilia'\n",
    "amphibia = weight_against_longevity['Class']=='Amphibia'\n",
    "chondrichthyes =weight_against_longevity['Class']=='Chondrichthyes'"
   ]
  },
  {
   "cell_type": "code",
   "execution_count": null,
   "id": "14786255",
   "metadata": {},
   "outputs": [],
   "source": []
  },
  {
   "cell_type": "markdown",
   "id": "81ab46f1",
   "metadata": {},
   "source": [
    "- ## Plotting the correlation combining 6 classes:\n",
    "\n",
    "  *Using Seaborn regplots: scatter plots with overlaid regression lines*\n",
    "\n",
    "<a id='massagainstage1'></a>"
   ]
  },
  {
   "cell_type": "code",
   "execution_count": 40,
   "id": "0b584444",
   "metadata": {},
   "outputs": [
    {
     "data": {
      "image/png": "[encoded data removed]",
      "text/plain": [
       "<Figure size 864x576 with 6 Axes>"
      ]
     },
     "metadata": {},
     "output_type": "display_data"
    }
   ],
   "source": [
    "#plotting regplots for each class\n",
    "fig, ax = plt.subplots(nrows = 2, ncols = 3, figsize = (12,8),sharex = True, sharey=True)\n",
    "fig.supylabel('Log of maximum longevity (yrs)', fontsize = 20)\n",
    "fig.supxlabel('Log of aduld body mass (g) ', fontsize = 20)\n",
    "colors=['#C06C84', '#444F5A']\n",
    "\n",
    "# Aves\n",
    "aves_sns = sns.regplot(\n",
    "    ax=ax[0][0],\n",
    "    data=weight_against_longevity[aves],\n",
    "    x='Log of adult weight (g)',\n",
    "    y='Log of maximum longevity (yrs)',\n",
    "    truncate = False,\n",
    "    line_kws={\"color\": colors[0], \"lw\":2},\n",
    "    scatter_kws = {\"color\": colors[1]},\n",
    "    ci = None\n",
    ")\n",
    "aves_sns.set(xlabel='')\n",
    "aves_sns.set(ylabel='')\n",
    "aves_sns.set_title(\"Aves\")\n",
    "\n",
    "# Mammalia\n",
    "mammalia_sns = sns.regplot(\n",
    "    ax=ax[0,1],\n",
    "    data=weight_against_longevity[mammalia],\n",
    "    x='Log of adult weight (g)',\n",
    "    y='Log of maximum longevity (yrs)',\n",
    "    truncate = False,\n",
    "    line_kws={\"color\": colors[0], \"lw\":2},\n",
    "    scatter_kws = {\"color\": colors[1]},\n",
    "    ci = None\n",
    ")\n",
    "mammalia_sns.set(xlabel='')\n",
    "mammalia_sns.set(ylabel='')\n",
    "mammalia_sns.set_title(\"Mammalia\")\n",
    "\n",
    "# Teleostei\n",
    "teleostei_sns = sns.regplot(\n",
    "    ax=ax[0,2],\n",
    "    data=weight_against_longevity[teleostei],\n",
    "    x='Log of adult weight (g)',\n",
    "    y='Log of maximum longevity (yrs)',\n",
    "    truncate = False,\n",
    "    line_kws={\"color\": colors[0], \"lw\":2},\n",
    "    scatter_kws = {\"color\": colors[1]},\n",
    "    ci = None\n",
    ")\n",
    "teleostei_sns.set(xlabel='')\n",
    "teleostei_sns.set(ylabel='')\n",
    "teleostei_sns.set_title(\"Teleostei\")\n",
    "\n",
    "# Reptilia\n",
    "reptilia_sns = sns.regplot(\n",
    "    ax=ax[1,0],\n",
    "    data=weight_against_longevity[reptilia],\n",
    "    x='Log of adult weight (g)',\n",
    "    y='Log of maximum longevity (yrs)',\n",
    "    truncate = False,\n",
    "    line_kws={\"color\": colors[0], \"lw\":2},\n",
    "    scatter_kws = {\"color\": colors[1]},\n",
    "    ci = None\n",
    ")\n",
    "reptilia_sns.set(xlabel='')\n",
    "reptilia_sns.set(ylabel='')\n",
    "reptilia_sns.set_title(\"Reptilia\")\n",
    "\n",
    "\n",
    "# Amphibia\n",
    "amphibia_sns = sns.regplot(\n",
    "    ax=ax[1,1],\n",
    "    data=weight_against_longevity[amphibia],\n",
    "    x='Log of adult weight (g)',\n",
    "    y='Log of maximum longevity (yrs)',\n",
    "    truncate = False,\n",
    "    line_kws={\"color\": colors[0], \"lw\":2},\n",
    "    scatter_kws = {\"color\": colors[1]},\n",
    "    ci = None\n",
    ")\n",
    "amphibia_sns.set(xlabel='')\n",
    "amphibia_sns.set(ylabel='')\n",
    "amphibia_sns.set_title(\"Amphibia\")\n",
    "\n",
    "# Chondrichthyes         \n",
    "chondrichthyes_sns = sns.regplot(\n",
    "    ax=ax[1,2],\n",
    "    data=weight_against_longevity[chondrichthyes],\n",
    "    x='Log of adult weight (g)',\n",
    "    y='Log of maximum longevity (yrs)',\n",
    "    truncate = False,\n",
    "    line_kws={\"color\": colors[0], \"lw\":2},\n",
    "    scatter_kws = {\"color\": colors[1]},\n",
    "    ci = None\n",
    ")\n",
    "chondrichthyes_sns.set(xlabel='')\n",
    "chondrichthyes_sns.set(ylabel='')\n",
    "chondrichthyes_sns.set_title(\"Chondrichthyes\")\n",
    "\n",
    "fig.tight_layout()\n"
   ]
  },
  {
   "cell_type": "markdown",
   "id": "fe281ef5",
   "metadata": {},
   "source": [
    " **Observations:**\n",
    "- None of the slopes are negative.\n",
    "- There is indeed an association between adult body mass and longevity.\n",
    "- The correlation is strongest in the Aves class, and weakest in the Amphibia class.\n"
   ]
  },
  {
   "cell_type": "code",
   "execution_count": null,
   "id": "f780bb86",
   "metadata": {},
   "outputs": [],
   "source": []
  }
 ],
 "metadata": {
  "kernelspec": {
   "display_name": "Python 3 (ipykernel)",
   "language": "python",
   "name": "python3"
  },
  "language_info": {
   "codemirror_mode": {
    "name": "ipython",
    "version": 3
   },
   "file_extension": ".py",
   "mimetype": "text/x-python",
   "name": "python",
   "nbconvert_exporter": "python",
   "pygments_lexer": "ipython3",
   "version": "3.9.7"
  }
 },
 "nbformat": 4,
 "nbformat_minor": 5
}
